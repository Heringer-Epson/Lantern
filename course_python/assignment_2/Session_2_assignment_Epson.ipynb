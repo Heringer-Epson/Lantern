{
 "cells": [
  {
   "cell_type": "code",
   "execution_count": 1,
   "metadata": {},
   "outputs": [],
   "source": [
    "#Imports\n",
    "import numpy as np\n",
    "import matplotlib.pyplot as plt\n",
    "import matplotlib as mpl\n",
    "from matplotlib.ticker import MultipleLocator"
   ]
  },
  {
   "cell_type": "markdown",
   "metadata": {},
   "source": [
    "**0. Stacking Arrays**"
   ]
  },
  {
   "cell_type": "code",
   "execution_count": 2,
   "metadata": {},
   "outputs": [
    {
     "data": {
      "text/plain": [
       "array([[1, 2, 3],\n",
       "       [4, 5, 6],\n",
       "       [7, 8, 9]])"
      ]
     },
     "execution_count": 2,
     "metadata": {},
     "output_type": "execute_result"
    }
   ],
   "source": [
    "#Initialize array\n",
    "A = np.array([[1,2,3], [4,5,6], [7, 8, 9]])\n",
    "A"
   ]
  },
  {
   "cell_type": "code",
   "execution_count": 3,
   "metadata": {},
   "outputs": [
    {
     "data": {
      "text/plain": [
       "array([[1, 3],\n",
       "       [4, 6],\n",
       "       [7, 9]])"
      ]
     },
     "execution_count": 3,
     "metadata": {},
     "output_type": "execute_result"
    }
   ],
   "source": [
    "#Slicing method\n",
    "col_1 = np.reshape(A[:,0], (3,1)) #get first col\n",
    "col_2 = np.reshape(A[:,-1], (3,1)) #get last col\n",
    "out_m1 = np.hstack([col_1, col_2])\n",
    "\n",
    "#Remove middle column method\n",
    "out_m2 = np.delete(A, 1, 1)\n",
    "\n",
    "#Print output\n",
    "out_m1"
   ]
  },
  {
   "cell_type": "markdown",
   "metadata": {},
   "source": [
    "**1. Computing the Value of a Polymial**"
   ]
  },
  {
   "cell_type": "code",
   "execution_count": 4,
   "metadata": {},
   "outputs": [
    {
     "data": {
      "text/plain": [
       "97.0"
      ]
     },
     "execution_count": 4,
     "metadata": {},
     "output_type": "execute_result"
    }
   ],
   "source": [
    "#Write loop to calculate a polynomial\n",
    "#Parameters\n",
    "#----------\n",
    "#cc ~ list\n",
    "#List containing the polynomial coefficients, from lower to higher degree.\n",
    "#\n",
    "#x ~ float\n",
    "#Independent variable.\n",
    "\n",
    "#Standard solution.\n",
    "x = 5.\n",
    "cc = [2,4,3]\n",
    "\n",
    "y = 0. #Initialize the value of y.\n",
    "for i, coeff in enumerate(cc):\n",
    "    y += coeff * np.power(x,i)\n",
    "\n",
    "y"
   ]
  },
  {
   "cell_type": "markdown",
   "metadata": {},
   "source": [
    "**2. Plotting differences**"
   ]
  },
  {
   "cell_type": "code",
   "execution_count": 5,
   "metadata": {},
   "outputs": [],
   "source": [
    "#Assume that the 'data/' folder is in the current directory.\n",
    "\n",
    "#Load data files.\n",
    "data_1 = np.loadtxt('./data/inflammation-01.csv', delimiter=',')\n",
    "data_2 = np.loadtxt('./data/inflammation-02.csv', delimiter=',')\n",
    "\n",
    "#Get the 'inflammation average' accross patients.\n",
    "avg_1 = np.mean(data_1, axis=0)\n",
    "avg_2 = np.mean(data_2, axis=0)"
   ]
  },
  {
   "cell_type": "code",
   "execution_count": 6,
   "metadata": {},
   "outputs": [
    {
     "data": {
      "text/plain": [
       "<ErrorbarContainer object of 3 artists>"
      ]
     },
     "execution_count": 6,
     "metadata": {},
     "output_type": "execute_result"
    },
    {
     "data": {
      "image/png": "[encoded data removed]",
      "text/plain": [
       "<Figure size 720x720 with 1 Axes>"
      ]
     },
     "metadata": {
      "needs_background": "light"
     },
     "output_type": "display_data"
    }
   ],
   "source": [
    "#Execute plotting routines.\n",
    "%matplotlib inline\n",
    "\n",
    "#Create figure and axis.\n",
    "fig = plt.figure(figsize=(10,10))\n",
    "ax = fig.add_subplot(111)\n",
    "\n",
    "#Reset some mpl default parameters for cleaniness.\n",
    "mpl.rcParams['mathtext.fontset'] = 'stix'\n",
    "mpl.rcParams['mathtext.fontset'] = 'stix'\n",
    "mpl.rcParams['font.family'] = 'STIXGeneral'\n",
    "fs = 24. #Set a default fontsize.\n",
    "\n",
    "#Make a suitable figure frame.\n",
    "\n",
    "xlabel = r'Time [days]'\n",
    "ylabel = r'Inflammation Score [arb]'\n",
    "ax.set_xlabel(xlabel, fontsize=fs)\n",
    "ax.set_ylabel(ylabel, fontsize=fs)\n",
    "ax.set_xlim(0., 40.)\n",
    "ax.set_ylim(-2., 2.)\n",
    "ax.tick_params(axis='y', which='major', labelsize=fs, pad=8)      \n",
    "ax.tick_params(axis='x', which='major', labelsize=fs, pad=8)\n",
    "ax.tick_params(\n",
    "  'both', length=12, width=2., which='major',\n",
    "  direction='in', right=True, top=True)\n",
    "ax.tick_params(\n",
    "  'both', length=6, width=2., which='minor',\n",
    "   direction='in', right=True, top=True) \n",
    "ax.xaxis.set_minor_locator(MultipleLocator(5.))\n",
    "ax.xaxis.set_major_locator(MultipleLocator(10.))\n",
    "ax.yaxis.set_minor_locator(MultipleLocator(.5))\n",
    "ax.yaxis.set_major_locator(MultipleLocator(1.)) \n",
    "\n",
    "#Draw points. Data is sufficiently sparse--plot as points.\n",
    "y = avg_2 - avg_1\n",
    "err=np.std(y) #Mock error, for visualiztion purposes only.\n",
    "\n",
    "ax.errorbar(range(len(y)), y, yerr=err, ls='None', marker='s')"
   ]
  },
  {
   "cell_type": "markdown",
   "metadata": {},
   "source": [
    "**3. Array Creation**"
   ]
  },
  {
   "cell_type": "code",
   "execution_count": 7,
   "metadata": {},
   "outputs": [
    {
     "data": {
      "text/plain": [
       "array([1.212, 2.346, 3.324], dtype=float16)"
      ]
     },
     "execution_count": 7,
     "metadata": {},
     "output_type": "execute_result"
    }
   ],
   "source": [
    "#Create random array with 3 single precision floating point numbers.\n",
    "A = np.array([1.212354,2.3452346,3.32453245], dtype='f2')\n",
    "A"
   ]
  },
  {
   "cell_type": "code",
   "execution_count": 8,
   "metadata": {},
   "outputs": [
    {
     "data": {
      "text/plain": [
       "array([  0,   1,   2,   3,   4,   5,   6,   7,   8,   9,  10,  11,  12,\n",
       "        13,  14,  15,  16,  17,  18,  19,  20,  21,  22,  23,  24,  25,\n",
       "        26,  27,  28,  29,  30,  31,  32,  33,  34,  35,  36,  37,  38,\n",
       "        39,  40,  41,  42,  43,  44,  45,  46,  47,  48,  49,  50,  51,\n",
       "        52,  53,  54,  55,  56,  57,  58,  59,  60,  61,  62,  63,  64,\n",
       "        65,  66,  67,  68,  69,  70,  71,  72,  73,  74,  75,  76,  77,\n",
       "        78,  79,  80,  81,  82,  83,  84,  85,  86,  87,  88,  89,  90,\n",
       "        91,  92,  93,  94,  95,  96,  97,  98,  99, 100, 101, 102, 103,\n",
       "       104, 105, 106, 107, 108, 109, 110, 111, 112, 113, 114, 115, 116,\n",
       "       117, 118, 119, 120, 121, 122, 123, 124, 125, 126, 127, 128, 129,\n",
       "       130, 131, 132, 133, 134, 135, 136, 137, 138, 139, 140, 141, 142,\n",
       "       143, 144, 145, 146, 147, 148, 149, 150, 151, 152, 153, 154, 155,\n",
       "       156, 157, 158, 159, 160, 161, 162, 163, 164, 165, 166, 167, 168,\n",
       "       169, 170, 171, 172, 173, 174, 175, 176, 177, 178, 179, 180, 181,\n",
       "       182, 183, 184, 185, 186, 187, 188, 189, 190, 191, 192, 193, 194,\n",
       "       195, 196, 197, 198, 199, 200, 201, 202, 203, 204, 205, 206, 207,\n",
       "       208, 209, 210, 211, 212, 213, 214, 215, 216, 217, 218, 219, 220,\n",
       "       221, 222, 223, 224, 225, 226, 227, 228, 229, 230, 231, 232, 233,\n",
       "       234, 235, 236, 237, 238, 239, 240, 241, 242, 243, 244, 245, 246,\n",
       "       247, 248, 249, 250, 251, 252, 253, 254, 255, 256, 257, 258, 259,\n",
       "       260, 261, 262, 263, 264, 265, 266, 267, 268, 269, 270, 271, 272,\n",
       "       273, 274, 275, 276, 277, 278, 279, 280, 281, 282, 283, 284, 285,\n",
       "       286, 287, 288, 289, 290, 291, 292, 293, 294, 295, 296, 297, 298,\n",
       "       299, 300, 301, 302, 303, 304, 305, 306, 307, 308, 309, 310, 311,\n",
       "       312, 313, 314, 315, 316, 317, 318, 319, 320, 321, 322, 323, 324,\n",
       "       325, 326, 327, 328, 329, 330, 331, 332, 333, 334, 335, 336, 337,\n",
       "       338, 339, 340, 341, 342, 343, 344, 345, 346, 347, 348, 349, 350,\n",
       "       351, 352, 353, 354, 355, 356, 357, 358, 359, 360, 361, 362, 363,\n",
       "       364, 365, 366, 367, 368, 369, 370, 371, 372, 373, 374, 375, 376,\n",
       "       377, 378, 379, 380, 381, 382, 383, 384, 385, 386, 387, 388, 389,\n",
       "       390, 391, 392, 393, 394, 395, 396, 397, 398, 399, 400, 401, 402,\n",
       "       403, 404, 405, 406, 407, 408, 409, 410, 411, 412, 413, 414, 415,\n",
       "       416, 417, 418, 419, 420, 421, 422, 423, 424, 425, 426, 427, 428,\n",
       "       429, 430, 431, 432, 433, 434, 435, 436, 437, 438, 439, 440, 441,\n",
       "       442, 443, 444, 445, 446, 447, 448, 449, 450, 451, 452, 453, 454,\n",
       "       455, 456, 457, 458, 459, 460, 461, 462, 463, 464, 465, 466, 467,\n",
       "       468, 469, 470, 471, 472, 473, 474, 475, 476, 477, 478, 479, 480,\n",
       "       481, 482, 483, 484, 485, 486, 487, 488, 489, 490, 491, 492, 493,\n",
       "       494, 495, 496, 497, 498, 499, 500])"
      ]
     },
     "execution_count": 8,
     "metadata": {},
     "output_type": "execute_result"
    }
   ],
   "source": [
    "#Create an array with elements 0 to 500\n",
    "B = np.arange(0,501)\n",
    "B"
   ]
  },
  {
   "cell_type": "code",
   "execution_count": 9,
   "metadata": {},
   "outputs": [
    {
     "name": "stdout",
     "output_type": "stream",
     "text": [
      "2 24 [ 99 100 101 102 103 104 105 106 107 108 109]\n"
     ]
    }
   ],
   "source": [
    "#Print elements 3, 25, and 100 to 110 of the array you created in the previous questions.\n",
    "print(B[2], B[24], B[99:110])"
   ]
  },
  {
   "cell_type": "code",
   "execution_count": 10,
   "metadata": {},
   "outputs": [
    {
     "data": {
      "text/plain": [
       "array([0.20607076, 0.30711753, 0.28836788, 0.50870526, 0.41116683,\n",
       "       0.18619343, 0.83188892, 0.50037031, 0.4029828 , 0.28914286])"
      ]
     },
     "execution_count": 10,
     "metadata": {},
     "output_type": "execute_result"
    }
   ],
   "source": [
    "#Create a 1d array of size 10 filled with random numbers between 0 and 1\n",
    "random_array = np.random.random(10)\n",
    "random_array"
   ]
  },
  {
   "cell_type": "markdown",
   "metadata": {},
   "source": [
    "**4. Reading/writing files**"
   ]
  },
  {
   "cell_type": "code",
   "execution_count": 11,
   "metadata": {},
   "outputs": [
    {
     "name": "stdout",
     "output_type": "stream",
     "text": [
      "Mean of the second column is: 0.450\n",
      "Mean of the second column is: 0.536\n"
     ]
    }
   ],
   "source": [
    "#Unclear which file to read from. Using inflammation-01.csv, which has been previously loaded to data_1\n",
    "\n",
    "#Mean of the second column:\n",
    "X_mean = np.mean(data_1[:,1])\n",
    "print('Mean of the second column is: %.3f' % (X_mean))\n",
    "\n",
    "#Variance of the third column:\n",
    "X_var = np.var(data_1[:,2])\n",
    "print('Mean of the second column is: %.3f' % (X_var))"
   ]
  },
  {
   "cell_type": "code",
   "execution_count": 12,
   "metadata": {},
   "outputs": [],
   "source": [
    "#Create output file.\n",
    "fpath = './stats.txt'\n",
    "with open(fpath, 'w') as out:\n",
    "    out.write('Mean[x] = %.3f' % (X_mean) + '\\n')\n",
    "    out.write('Var[x] = %.3f' % (X_var))"
   ]
  },
  {
   "cell_type": "markdown",
   "metadata": {},
   "source": [
    "**5. While**"
   ]
  },
  {
   "cell_type": "code",
   "execution_count": 13,
   "metadata": {},
   "outputs": [
    {
     "name": "stdout",
     "output_type": "stream",
     "text": [
      "Please enter a number to be summed. Enter 0 to stop...\n",
      "3\n",
      "Please enter a number to be summed. Enter 0 to stop...\n",
      "4\n",
      "Please enter a number to be summed. Enter 0 to stop...\n",
      "0\n",
      "The sum is 7.000\n"
     ]
    }
   ],
   "source": [
    "out_sum = 0\n",
    "while 1 < 2:\n",
    "    print('Please enter a number to be summed. Enter 0 to stop...')\n",
    "    inp = float(input())\n",
    "    if abs(inp) > 1.e-8: #if zero was entered, stop the loop and print the sum.\n",
    "        out_sum += inp\n",
    "    else:\n",
    "        print('The sum is %.3f' %(out_sum))\n",
    "        break"
   ]
  },
  {
   "cell_type": "markdown",
   "metadata": {},
   "source": [
    "**6. Palindrome**"
   ]
  },
  {
   "cell_type": "code",
   "execution_count": 14,
   "metadata": {},
   "outputs": [
    {
     "name": "stdout",
     "output_type": "stream",
     "text": [
      "Enter an input word to check if it is a palindrome\n",
      "noon\n",
      "Cheers. noon is a palindrome!\n"
     ]
    }
   ],
   "source": [
    "print('Enter an input word to check if it is a palindrome')\n",
    "word = input()\n",
    "if word == word[::-1]:\n",
    "    print('Cheers. %s is a palindrome!' % (word))\n",
    "else:\n",
    "    print('Try again. %s is not a palindrome!' % (word))"
   ]
  }
 ],
 "metadata": {
  "kernelspec": {
   "display_name": "Python 3",
   "language": "python",
   "name": "python3"
  },
  "language_info": {
   "codemirror_mode": {
    "name": "ipython",
    "version": 3
   },
   "file_extension": ".py",
   "mimetype": "text/x-python",
   "name": "python",
   "nbconvert_exporter": "python",
   "pygments_lexer": "ipython3",
   "version": "3.6.7"
  }
 },
 "nbformat": 4,
 "nbformat_minor": 2
}
