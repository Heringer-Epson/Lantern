{
 "cells": [
  {
   "cell_type": "code",
   "execution_count": 1,
   "metadata": {},
   "outputs": [
    {
     "data": {
      "text/plain": [
       "'\\nDescription: assignment for the python course. Instructions can be found\\nin ./description.txt\\n'"
      ]
     },
     "execution_count": 1,
     "metadata": {},
     "output_type": "execute_result"
    }
   ],
   "source": [
    "\"\"\"\n",
    "Description: assignment for the python course. Instructions can be found\n",
    "in ./description.txt\n",
    "\"\"\""
   ]
  },
  {
   "cell_type": "markdown",
   "metadata": {},
   "source": [
    "## General imports"
   ]
  },
  {
   "cell_type": "code",
   "execution_count": 2,
   "metadata": {},
   "outputs": [],
   "source": [
    "import sys\n",
    "import os\n",
    "import time\n",
    "import numpy as np\n",
    "import pandas as pd\n",
    "import seaborn as sns\n",
    "import matplotlib.pyplot as plt\n",
    "import matplotlib as mpl\n",
    "from matplotlib.ticker import MultipleLocator\n",
    "from collections import Counter\n",
    "from itertools import cycle\n",
    "%matplotlib inline"
   ]
  },
  {
   "cell_type": "markdown",
   "metadata": {},
   "source": [
    "## Sorting a List Into Buckets"
   ]
  },
  {
   "cell_type": "code",
   "execution_count": 3,
   "metadata": {},
   "outputs": [
    {
     "name": "stdout",
     "output_type": "stream",
     "text": [
      "Method 1 took 0.000299\n",
      "Method 2 took 0.000273\n",
      "['inflammation-01.csv', 'inflammation-02.csv']\n",
      "['small-01.csv', 'small-02.csv']\n",
      "['myscript.py']\n"
     ]
    }
   ],
   "source": [
    "#Sorry for the extra content here. I was actually curious to see if\n",
    "#one for loop was slower than three one-liners. Suprinsigly close.\n",
    "\n",
    "files = ['inflammation-01.csv', 'myscript.py', 'inflammation-02.csv', 'small-01.csv', 'small-02.csv']\n",
    "\n",
    "#Method 1. Loops through files more times, but uses the more elegant and efficient one-liners.\n",
    "start_time = time.time()\n",
    "large_files = [el for el in files if el.startswith('inflammation')]\n",
    "small_files = [el for el in files if el.startswith('small')]\n",
    "other_files = [el for el in files if ((el not in large_files) & (el not in small_files))]\n",
    "print('Method 1 took %.6f' %(time.time() - start_time))\n",
    "\n",
    "#Method 2. Single for loop.\n",
    "start_time = time.time()\n",
    "large_files = []\n",
    "small_files = []\n",
    "other_files = []\n",
    "for el in files:\n",
    "    if el.startswith('inflammation'):\n",
    "        large_files.append(el)\n",
    "    elif el.startswith('small'):\n",
    "        small_files.append(el)\n",
    "    else:\n",
    "        other_files.append(el)\n",
    "print('Method 2 took %.6f' %(time.time() - start_time))\n",
    "\n",
    "print(large_files)\n",
    "print(small_files)\n",
    "print(other_files)"
   ]
  },
  {
   "cell_type": "markdown",
   "metadata": {},
   "source": [
    "## Fixing and Testing"
   ]
  },
  {
   "cell_type": "code",
   "execution_count": 4,
   "metadata": {},
   "outputs": [
    {
     "name": "stdout",
     "output_type": "stream",
     "text": [
      "Function range_overlap Successfully passed the tests in test_range_overlap \n"
     ]
    }
   ],
   "source": [
    "#Pre-determined rules:\n",
    "#1) every overlap has to have non-zero width, and\n",
    "#2) we will return the special value None when there’s no overlap.\n",
    "\n",
    "#Note, further test cases, such as ensuring the input is a list containg\n",
    "#tuples of floats could be implement by making creating a class\n",
    "#and using @property. Not done here for concisiness.\n",
    "\n",
    "def range_overlap(ranges):\n",
    "    '''Return common overlap among a set of [low, high] ranges.'''\n",
    "    lowest = -np.inf\n",
    "    highest = np.inf\n",
    "    for (low, high) in ranges:\n",
    "        lowest = max(lowest, low)\n",
    "        highest = min(highest, high)\n",
    "    if highest <= lowest:\n",
    "        return None\n",
    "    else:\n",
    "        return (lowest, highest)\n",
    "\n",
    "def test_range_overlap():\n",
    "    assert range_overlap([ (0.0, 1.0), (5.0, 6.0) ]) == None\n",
    "    assert range_overlap([ (0.0, 1.0), (1.0, 2.0) ]) == None\n",
    "    assert range_overlap([ (0.0, 1.0) ]) == (0.0, 1.0)\n",
    "    assert range_overlap([ (2.0, 3.0), (2.0, 4.0) ]) == (2.0, 3.0)\n",
    "    assert range_overlap([ (0.0, 1.0), (0.0, 2.0), (-1.0, 1.0) ]) == (0.0, 1.0)\n",
    "    print('Function %s Successfully passed the tests in %s '\n",
    "          %(range_overlap.__name__, test_range_overlap.__name__))\n",
    " \n",
    "test_range_overlap()\n"
   ]
  },
  {
   "cell_type": "markdown",
   "metadata": {},
   "source": [
    "## You do the rest\n",
    "The codes are commented as they are not meant to be run as main in jupyter notebook."
   ]
  },
  {
   "cell_type": "code",
   "execution_count": 5,
   "metadata": {},
   "outputs": [
    {
     "data": {
      "text/plain": [
       "\"\\nimport sys\\nimport numpy\\n\\ndef perform_operation(_f,_opperation):\\n    data = numpy.loadtxt(_f, delimiter=',')\\n    for m in _opperation(data, axis=1):\\n        print(m)\\n\\ndef main():\\n    script = sys.argv[0]\\n    action = sys.argv[1]\\n    filenames = sys.argv[2:]\\n    \\n    #Test if an operation flag was passed. If true, define revelant function.\\n    if action.startswith('--'):\\n        try:\\n            opperation = getattr(numpy, action[2:])\\n        except:\\n            raise ValueError('Flag passed is invalid')\\n    else:\\n        raise ValueError('No flag was passed as an input.')\\n\\n    #Check if files were passed in the standard format.\\n    if filenames:\\n        [perform_operation(f, opperation) for f in filenames]\\n    elif not sys.stdin.isatty():\\n        perform_operation(sys.stdin,opperation)\\n    else:\\n        raise ValueError('Could no find an files passed as input.')\\n\\nif __name__ == '__main__':\\n   main()\\n\""
      ]
     },
     "execution_count": 5,
     "metadata": {},
     "output_type": "execute_result"
    }
   ],
   "source": [
    "#Exercise 1. Action as a flag.\n",
    "'''\n",
    "import sys\n",
    "import numpy\n",
    "\n",
    "def main():\n",
    "    script = sys.argv[0]\n",
    "    action = sys.argv[1]\n",
    "    filenames = sys.argv[2:]\n",
    "\n",
    "    for f in filenames:\n",
    "        data = numpy.loadtxt(f, delimiter=',')\n",
    "        try:\n",
    "            opperation = getattr(numpy, action[2:])\n",
    "            for m in opperation(data, axis=1):\n",
    "                print(m)\n",
    "        except:\n",
    "            raise ValueError('Flag passed is invalid')\n",
    "\n",
    "if __name__ == '__main__':\n",
    "   main()\n",
    "'''\n",
    "\n",
    "#Exercise 2. Check action.\n",
    "'''\n",
    "import sys\n",
    "import numpy\n",
    "\n",
    "def perform_operation(_f,_opperation):\n",
    "    data = numpy.loadtxt(_f, delimiter=',')\n",
    "    for m in _opperation(data, axis=1):\n",
    "        print(m)\n",
    "\n",
    "def main():\n",
    "    script = sys.argv[0]\n",
    "    action = sys.argv[1]\n",
    "    filenames = sys.argv[2:]\n",
    "\n",
    "    #Test if an operation flag was passed. If true, define revelant function.\n",
    "    if action.startswith('--'):\n",
    "        try:\n",
    "            opperation = getattr(numpy, action[2:])\n",
    "        except:\n",
    "            raise ValueError('Flag passed is invalid')\n",
    "    else:\n",
    "        raise ValueError('No flag was passed as an input.')\n",
    "\n",
    "    #Loop over input files\n",
    "    [perform_operation(f, opperation) for f in filenames]\n",
    "\n",
    "if __name__ == '__main__':\n",
    "   main()\n",
    "'''\n",
    "\n",
    "#Exercise 3. Standard input.\n",
    "#Not entirely sure that this is what the problem wanted.\n",
    "'''\n",
    "import sys\n",
    "import numpy\n",
    "\n",
    "def perform_operation(_f,_opperation):\n",
    "    data = numpy.loadtxt(_f, delimiter=',')\n",
    "    for m in _opperation(data, axis=1):\n",
    "        print(m)\n",
    "\n",
    "def main():\n",
    "    script = sys.argv[0]\n",
    "    action = sys.argv[1]\n",
    "    filenames = sys.argv[2:]\n",
    "    \n",
    "    #Test if an operation flag was passed. If true, define revelant function.\n",
    "    if action.startswith('--'):\n",
    "        try:\n",
    "            opperation = getattr(numpy, action[2:])\n",
    "        except:\n",
    "            raise ValueError('Flag passed is invalid')\n",
    "    else:\n",
    "        raise ValueError('No flag was passed as an input.')\n",
    "\n",
    "    #Check if files were passed in the standard format.\n",
    "    if filenames:\n",
    "        [perform_operation(f, opperation) for f in filenames]\n",
    "    elif not sys.stdin.isatty():\n",
    "        perform_operation(sys.stdin,opperation)\n",
    "    else:\n",
    "        raise ValueError('Could no find an files passed as input.')\n",
    "\n",
    "if __name__ == '__main__':\n",
    "   main()\n",
    "'''\n"
   ]
  },
  {
   "cell_type": "markdown",
   "metadata": {},
   "source": [
    "## Restaurants!"
   ]
  },
  {
   "cell_type": "code",
   "execution_count": 6,
   "metadata": {},
   "outputs": [],
   "source": [
    "#Find the restaurant with the minimum combined rank.\n",
    "#If no matches, then the output should be 'yummy'.\n",
    "\n",
    "def find_restaurant(r1,r2):\n",
    "    '''Find restaurants that belong to both lits. If no matches,\n",
    "    return yummy. If there are matches, compute combined rank\n",
    "    and return restauran with the lowest combined rank.\n",
    "    '''\n",
    "    \n",
    "    common = list(set(r1).intersection(r2))\n",
    "    if not common:\n",
    "        return 'yummy'\n",
    "    else:\n",
    "        ranks = [r1.index(r) + r2.index(r) + 2 for r in common]\n",
    "        return common[np.argmin(np.asarray(ranks))]\n",
    "\n",
    "restaurants_1 = ['El Farolito', 'Japa Curry', 'Eatsa']\n",
    "restaurants_2 = ['Japa Curry', 'Eatsa', 'Ayola', 'Working Girls']\n",
    "\n",
    "                 \n",
    "def test_cases():\n",
    "    assert find_restaurant(['El Farolito', 'Japa Curry', 'Eatsa'],\n",
    "                           ['Japa Curry', 'Eatsa', 'Ayola', 'Working Girls']) == 'Japa Curry'\n",
    "    assert find_restaurant(['El Farolito', 'Japa Curry'],\n",
    "                           ['Ayola', 'Working Girls']) == 'yummy'\n",
    "\n",
    "test_cases()"
   ]
  },
  {
   "cell_type": "markdown",
   "metadata": {},
   "source": [
    "## greatest common divisor"
   ]
  },
  {
   "cell_type": "code",
   "execution_count": 7,
   "metadata": {},
   "outputs": [],
   "source": [
    "def gcd(a,b):\n",
    "    max_iter = 1000\n",
    "    i = 1\n",
    "    while i <= max_iter:\n",
    "        out = b\n",
    "        q, r = divmod(a,b)\n",
    "        a, b = b, r\n",
    "        if abs(r) < 1.e-6:\n",
    "            break\n",
    "        elif i == max_iter:\n",
    "            out = np.nan\n",
    "        i += 1\n",
    "    return out\n",
    "\n",
    "def test_cases():\n",
    "    assert gcd(15,10) == 5\n",
    "    assert gcd(10,15) == 5\n",
    "    assert gcd(7,1) == 1\n",
    "    assert gcd(1632,252) == 12\n",
    "\n",
    "test_cases()"
   ]
  },
  {
   "cell_type": "markdown",
   "metadata": {},
   "source": [
    "## Koch curve"
   ]
  },
  {
   "cell_type": "code",
   "execution_count": 8,
   "metadata": {},
   "outputs": [],
   "source": [
    "#Define functions that initialize the shape\n",
    "angles = cycle([1./3.*np.pi, -2./3.*np.pi, 1./3.*np.pi])\n",
    "\n",
    "def make_triangle_shape(x):\n",
    "    \"\"\"Compute the vertice positions of a equilateral triangle\n",
    "    of length x, with a vertice a (0,0).\n",
    "    \"\"\"\n",
    "    side_len = x/3.\n",
    "    v1 = np.array([0.,0.])\n",
    "    v2 = np.array([side_len*np.cos(np.pi/3.),side_len*np.sin(np.pi/3.)])\n",
    "    v3 = np.array([side_len,0.])\n",
    "    angles = [np.pi/3., -np.pi/3., -np.pi]\n",
    "    lengths = [side_len, side_len, side_len]\n",
    "    return [v1,v2,v3,v1], angles, lengths\n",
    "\n",
    "def make_P_shape(x):\n",
    "    \"\"\"Compute the vertice positions of an abitrary shape that resembles\n",
    "    the 'P' letter.\n",
    "    \"\"\"\n",
    "    v1 = np.array([0.,0.])\n",
    "    v2 = np.array([0.,2.*x/5.])\n",
    "    v3 = np.array([x/5.,2.*x/5.])\n",
    "    v4 = np.array([x/5.,x/5.])\n",
    "    v5 = np.array([0.,x/5.])\n",
    "    angles = [np.pi/2., 0.,-np.pi/2. , -np.pi]\n",
    "    lengths = [2.*x/5.,x/5.,x/5.,x/5.]\n",
    "    return list([v1,v2,v3,v4,v5]), angles, lengths"
   ]
  },
  {
   "cell_type": "code",
   "execution_count": 9,
   "metadata": {},
   "outputs": [],
   "source": [
    "def koch_line(A,l,theta):\n",
    "    \"\"\"Given a line segment that starts at A and ends at B,\n",
    "    return 3 points that define an equilateral triangle whose\n",
    "    base intersects the segment symmetrically. The length l\n",
    "    is passed as a parameter to avoid repeating the same calculation.\n",
    "    \"\"\"\n",
    "    new_l = l/3.\n",
    "    angle_out = []\n",
    "    \n",
    "    def update_seg(v,theta):\n",
    "        angle_out.append(theta)\n",
    "        return v + np.array([new_l*np.cos(theta), new_l*np.sin(theta)])\n",
    "    \n",
    "    c1 = update_seg(A,theta)\n",
    "    theta += next(angles)        \n",
    "    c2 = update_seg(c1,theta)\n",
    "    theta += next(angles)  \n",
    "    c3 = update_seg(c2,theta)\n",
    "    theta += next(angles)  \n",
    "    c4 = update_seg(c3,theta)\n",
    "    \n",
    "    return [A,c1,c2,c3], angle_out, [new_l, new_l, new_l, new_l]"
   ]
  },
  {
   "cell_type": "code",
   "execution_count": 10,
   "metadata": {},
   "outputs": [],
   "source": [
    "def koch_figure(x, shape):\n",
    "    \"\"\"Given the shape input, call 'make_triangle_shape' or 'make_P_shape'\n",
    "    to compute the initial vertices. Then iterate of these line segments\n",
    "    according to Koch fractals, using the 'Koch_line' function.\n",
    "    \"\"\"\n",
    "    \n",
    "    out = {}\n",
    "    if shape == 'triangle':\n",
    "        out['v0'], out['a0'], out['l0'] = make_triangle_shape(x)\n",
    "    elif shape == 'P':\n",
    "        out['v0'], out['a0'], out['l0'] = make_P_shape(x)\n",
    "    for i in range(1,6):\n",
    "        out['v' + str(i)] = []\n",
    "        out['a' + str(i)] = []\n",
    "        out['l' + str(i)] = []\n",
    "        for v, v_next, theta, l in zip(\n",
    "          out['v' + str(i-1)], out['v' + str(i-1)][1:],\n",
    "           out['a' + str(i-1)], out['l' + str(i-1)]):\n",
    "            seg, ang, leng = koch_line(v,l,theta)\n",
    "            out['v' + str(i)] += seg\n",
    "            out['a' + str(i)] += ang\n",
    "            out['l' + str(i)] += leng\n",
    "        #Append initial vertice to close the loop and for plotting.\n",
    "        out['v' + str(i)].append(out['v' + str(i-1)][0])\n",
    "    return out"
   ]
  },
  {
   "cell_type": "code",
   "execution_count": 11,
   "metadata": {},
   "outputs": [],
   "source": [
    "def make_figure(results):\n",
    "    fig = plt.figure()\n",
    "    for i in range(6):\n",
    "        ax = fig.add_subplot(2,3,i+1)\n",
    "        ax.set_xticklabels([])\n",
    "        ax.set_yticklabels([])\n",
    "        ax.tick_params(axis='both', which='both', bottom=False, left=False)\n",
    "        data = np.transpose(results['v' + str(i)])\n",
    "        ax.plot(data[0], data[1], lw=1, c='k')\n",
    "    plt.subplots_adjust(wspace=0., hspace=0.)"
   ]
  },
  {
   "cell_type": "code",
   "execution_count": 12,
   "metadata": {},
   "outputs": [
    {
     "data": {
      "image/png": "[encoded data removed]",
      "text/plain": [
       "<Figure size 432x288 with 6 Axes>"
      ]
     },
     "metadata": {
      "needs_background": "light"
     },
     "output_type": "display_data"
    }
   ],
   "source": [
    "results_triangle = koch_figure(3., 'triangle')\n",
    "make_figure(results_triangle)"
   ]
  },
  {
   "cell_type": "code",
   "execution_count": 13,
   "metadata": {},
   "outputs": [
    {
     "data": {
      "image/png": "[encoded data removed]",
      "text/plain": [
       "<Figure size 432x288 with 6 Axes>"
      ]
     },
     "metadata": {
      "needs_background": "light"
     },
     "output_type": "display_data"
    }
   ],
   "source": [
    "results_P = koch_figure(3., 'P')\n",
    "make_figure(results_P)"
   ]
  }
 ],
 "metadata": {
  "kernelspec": {
   "display_name": "Python 3",
   "language": "python",
   "name": "python3"
  },
  "language_info": {
   "codemirror_mode": {
    "name": "ipython",
    "version": 3
   },
   "file_extension": ".py",
   "mimetype": "text/x-python",
   "name": "python",
   "nbconvert_exporter": "python",
   "pygments_lexer": "ipython3",
   "version": "3.6.7"
  }
 },
 "nbformat": 4,
 "nbformat_minor": 2
}
