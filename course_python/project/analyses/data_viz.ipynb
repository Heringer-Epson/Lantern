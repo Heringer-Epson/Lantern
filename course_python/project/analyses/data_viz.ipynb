{
 "cells": [
  {
   "cell_type": "code",
   "execution_count": 18,
   "metadata": {},
   "outputs": [],
   "source": [
    "import sys\n",
    "import os\n",
    "import pickle\n",
    "import numpy as np\n",
    "import pandas as pd\n",
    "import seaborn as sns\n",
    "import matplotlib.pyplot as plt\n",
    "%matplotlib inline"
   ]
  },
  {
   "cell_type": "code",
   "execution_count": 29,
   "metadata": {},
   "outputs": [
    {
     "data": {
      "text/plain": [
       "'\\nDescription:\\n------------\\nThis code investigates the data given as part of a Lantern assignment.\\nIn particular, the heart rate and sleep data.\\n\\nParameters:\\n-----------\\nshow_fig ~ bool\\n    Flag to determine whether or not to display the figure.\\nsave_fig ~ bool\\n    Flag to determine whether or not to save the figure.    \\n\\nOutputs:\\n--------\\n./../OUTPUTS/analyses/X.pdf\\n\\n'"
      ]
     },
     "execution_count": 29,
     "metadata": {},
     "output_type": "execute_result"
    }
   ],
   "source": [
    "\"\"\"\n",
    "Description:\n",
    "------------\n",
    "This code investigates the data given as part of a Lantern assignment.\n",
    "In particular, the heart rate and sleep data.\n",
    "\n",
    "Parameters:\n",
    "-----------\n",
    "show_fig ~ bool\n",
    "    Flag to determine whether or not to display the figure.\n",
    "save_fig ~ bool\n",
    "    Flag to determine whether or not to save the figure.    \n",
    "\n",
    "Outputs:\n",
    "--------\n",
    "./../OUTPUTS/analyses/X.pdf\n",
    "\n",
    "\"\"\" "
   ]
  },
  {
   "cell_type": "code",
   "execution_count": null,
   "metadata": {},
   "outputs": [],
   "source": []
  },
  {
   "cell_type": "code",
   "execution_count": 32,
   "metadata": {},
   "outputs": [],
   "source": [
    "#Read compiled data. For more details, see /src/merge_data.py\n",
    "fpath = os.path.join('./../OUTPUTS/master_data.pkl')\n",
    "with open(fpath, 'rb') as f:\n",
    "    M = pickle.load(f)"
   ]
  },
  {
   "cell_type": "code",
   "execution_count": 38,
   "metadata": {},
   "outputs": [
    {
     "name": "stdout",
     "output_type": "stream",
     "text": [
      "Index(['end_time', 'heart_rate', 'start_time', 'heart_beat_count',\n",
      "       'update_time', 'pkg_name', 'time_offset', 'datauuid', 'create_time',\n",
      "       'start_time_rel', 'end_time_rel', 'duration'],\n",
      "      dtype='object')\n"
     ]
    },
    {
     "data": {
      "text/plain": [
       "(0, 20)"
      ]
     },
     "execution_count": 38,
     "metadata": {},
     "output_type": "execute_result"
    },
    {
     "data": {
      "image/png": "[encoded data removed]",
      "text/plain": [
       "<Figure size 360x360 with 1 Axes>"
      ]
     },
     "metadata": {
      "needs_background": "light"
     },
     "output_type": "display_data"
    }
   ],
   "source": [
    "#Plot heart rate as a function of duration. Uses data from ./../data/heart_rate.csv.\n",
    "print(M['heartrate'].columns)\n",
    "sns.lmplot(x='duration', y='heart_rate', data=M['heartrate'],\n",
    "           fit_reg=False)\n",
    "plt.xlim(0,20)"
   ]
  },
  {
   "cell_type": "code",
   "execution_count": null,
   "metadata": {},
   "outputs": [],
   "source": []
  }
 ],
 "metadata": {
  "kernelspec": {
   "display_name": "Python 3",
   "language": "python",
   "name": "python3"
  },
  "language_info": {
   "codemirror_mode": {
    "name": "ipython",
    "version": 3
   },
   "file_extension": ".py",
   "mimetype": "text/x-python",
   "name": "python",
   "nbconvert_exporter": "python",
   "pygments_lexer": "ipython3",
   "version": "3.6.7"
  }
 },
 "nbformat": 4,
 "nbformat_minor": 2
}
